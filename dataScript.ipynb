{
 "cells": [
  {
   "cell_type": "code",
   "execution_count": 36,
   "metadata": {},
   "outputs": [],
   "source": [
    "# all import statements needed\n",
    "import os\n",
    "import json\n",
    "import requests\n",
    "import shutil\n",
    "from requests.auth import HTTPBasicAuth\n",
    "from dotenv import load_dotenv\n",
    "import pandas as pd\n",
    "import pickle"
   ]
  },
  {
   "cell_type": "code",
   "execution_count": 14,
   "metadata": {},
   "outputs": [],
   "source": [
    "# get planet api key from .env\n",
    "PLANET_API_KEY = os.getenv('PLANET_API_KEY')"
   ]
  },
  {
   "cell_type": "code",
   "execution_count": 15,
   "metadata": {},
   "outputs": [],
   "source": [
    "class Region:\n",
    "    def __init__(self, name, region, dates, cloud_cover, item_type, asset_types, search_result = None, images=[], active_requests = dict(), activated = set()):\n",
    "        self.name = name\n",
    "        # polygon json that contains coordinates of region of intrest\n",
    "        self.region = region\n",
    "        # locations that overlap region of interest\n",
    "        self.location = {\n",
    "            \"type\": \"GeometryFilter\",\n",
    "            \"field_name\": \"geometry\",\n",
    "            \"config\": region\n",
    "        }\n",
    "        # json that contains dates of interest\n",
    "        self.dates = dates\n",
    "        # json that has cloud cover threshol\n",
    "        self.cloud_cover = cloud_cover\n",
    "        # json that combines all previous filters\n",
    "        self.filters = {\n",
    "            \"type\": \"AndFilter\",\n",
    "            \"config\": [self.location, dates, cloud_cover]\n",
    "        }\n",
    "        # item-type of images desired\n",
    "        self.item_type = item_type\n",
    "        # desired asset types\n",
    "        self.asset_types = asset_types.split()\n",
    "        # will contain post of search results\n",
    "        self.search_result = search_result\n",
    "        # will contains image id of all images\n",
    "        self.images = images\n",
    "        # will contain request for each image\n",
    "        self.active_requests = {asset_type:[] for asset_type in self.asset_types}\n",
    "        # will contain images that still are activating\n",
    "        self.activated = activated"
   ]
  },
  {
   "cell_type": "code",
   "execution_count": 16,
   "metadata": {},
   "outputs": [],
   "source": [
    "df = pd.read_csv('locations.csv')"
   ]
  },
  {
   "cell_type": "code",
   "execution_count": 17,
   "metadata": {},
   "outputs": [],
   "source": [
    "regions = []\n",
    "# create objects of regions\n",
    "for i in df.index:\n",
    "    regions.append(Region(df['Region Name'][i], json.loads(df['Polygon Coordinates'][i]), json.loads(df['Dates'][i]), json.loads(df['Cloud Coverage'][i]), df['Item Type'][i], df['Asset Type'][i]))"
   ]
  },
  {
   "cell_type": "code",
   "execution_count": 18,
   "metadata": {},
   "outputs": [],
   "source": [
    "# set the item type that we are insterested\n",
    "for region in regions:\n",
    "    # create a search with filters that we want for each region\n",
    "    search = {\n",
    "    \"item_types\":['PSScene'],\n",
    "    \"filter\":region.filters\n",
    "    }\n",
    "    # post the request using our PLANET_API_KEY to authenticate\n",
    "    search_result = \\\n",
    "        requests.post(\n",
    "            'https://api.planet.com/data/v1/quick-search',\n",
    "            auth=HTTPBasicAuth(PLANET_API_KEY, ''),\n",
    "            json=search\n",
    "        )\n",
    "    # add the request to region object\n",
    "    region.search_result = search_result\n",
    "    region.images = [feature['id'] for feature in search_result.json()['features']]\n",
    "    "
   ]
  },
  {
   "cell_type": "code",
   "execution_count": 19,
   "metadata": {},
   "outputs": [],
   "source": [
    "for region in regions[:1]:\n",
    "    # for each asset_type that we want from each region\n",
    "    for asset_type in region.asset_types:\n",
    "        for i, image in enumerate(region.images):\n",
    "            image_url = 'https://api.planet.com/data/v1/item-types/{}/items/{}/assets'.format(region.item_type, image)\n",
    "            # create a get request with image url\n",
    "            result = \\\n",
    "                requests.get(\n",
    "                    image_url,\n",
    "                    auth=HTTPBasicAuth(PLANET_API_KEY, '')\n",
    "                )\n",
    "            # if the result has a an asset type then that we are looking for\n",
    "            if asset_type in result.json().keys():\n",
    "                links = result.json()[asset_type][\"_links\"]\n",
    "                self_link = links[\"_self\"]\n",
    "                activation_link = links[\"activate\"]\n",
    "                # activate that request\n",
    "                activate_result = \\\n",
    "                    requests.get(\n",
    "                        activation_link,\n",
    "                        auth=HTTPBasicAuth(PLANET_API_KEY, '')\n",
    "                    )\n",
    "                # will give us the status of the request\n",
    "                activation_status_result = \\\n",
    "                    requests.get(\n",
    "                        self_link,\n",
    "                        auth=HTTPBasicAuth(PLANET_API_KEY, '')\n",
    "                    )\n",
    "                # append the requests\n",
    "                region.active_requests[asset_type].append(activation_status_result)\n",
    "                region.activated.add(image)"
   ]
  },
  {
   "cell_type": "code",
   "execution_count": 57,
   "metadata": {},
   "outputs": [],
   "source": [
    "for x in regions[0].active_requests['ortho_analytic_4b_sr']:\n",
    "    if x.json()['status'] == 'active':\n",
    "        print(x.json())"
   ]
  },
  {
   "cell_type": "code",
   "execution_count": 37,
   "metadata": {},
   "outputs": [],
   "source": [
    "# save request in pickles files\n",
    "for region in regions[:1]:\n",
    "    if not os.path.exists(\"Regions\"):\n",
    "         os.makedirs(\"Regions\")\n",
    "    pickle.dump(region, open(\"Regions/\"+region.name+\".p\", \"wb\"))"
   ]
  },
  {
   "cell_type": "code",
   "execution_count": 54,
   "metadata": {},
   "outputs": [],
   "source": [
    "# load from pickle file\n",
    "region_pickles = []\n",
    "for file in os.listdir(\"Regions\"):\n",
    "    region_pickles.append(pickle.load(open(\"Regions/\"+file, \"rb\")))"
   ]
  },
  {
   "cell_type": "code",
   "execution_count": 55,
   "metadata": {},
   "outputs": [
    {
     "name": "stdout",
     "output_type": "stream",
     "text": [
      "{'_links': {'_self': 'https://api.planet.com/data/v1/assets/eyJpIjogIjIwMTYxMDI3XzIxMTkyMV8wZTBlIiwgImMiOiAiUFNTY2VuZSIsICJ0IjogIm9ydGhvX2FuYWx5dGljXzRiX3NyIiwgImN0IjogIml0ZW0tdHlwZSJ9', 'activate': 'https://api.planet.com/data/v1/assets/eyJpIjogIjIwMTYxMDI3XzIxMTkyMV8wZTBlIiwgImMiOiAiUFNTY2VuZSIsICJ0IjogIm9ydGhvX2FuYWx5dGljXzRiX3NyIiwgImN0IjogIml0ZW0tdHlwZSJ9/activate', 'type': 'https://api.planet.com/data/v1/asset-types/ortho_analytic_4b_sr'}, '_permissions': ['download'], 'md5_digest': None, 'status': 'activating', 'type': 'ortho_analytic_4b_sr'}\n",
      "{'_links': {'_self': 'https://api.planet.com/data/v1/assets/eyJpIjogIjIwMTYxMDI3XzIxMTkyMV8wZTBlIiwgImMiOiAiUFNTY2VuZSIsICJ0IjogIm9ydGhvX2FuYWx5dGljXzRiX3NyIiwgImN0IjogIml0ZW0tdHlwZSJ9', 'activate': 'https://api.planet.com/data/v1/assets/eyJpIjogIjIwMTYxMDI3XzIxMTkyMV8wZTBlIiwgImMiOiAiUFNTY2VuZSIsICJ0IjogIm9ydGhvX2FuYWx5dGljXzRiX3NyIiwgImN0IjogIml0ZW0tdHlwZSJ9/activate', 'type': 'https://api.planet.com/data/v1/asset-types/ortho_analytic_4b_sr'}, '_permissions': ['download'], 'md5_digest': None, 'status': 'activating', 'type': 'ortho_analytic_4b_sr'}\n"
     ]
    }
   ],
   "source": [
    "print(region_pickles[0].active_requests['ortho_analytic_4b_sr'][0].json())\n",
    "print(regions[0].active_requests['ortho_analytic_4b_sr'][0].json())"
   ]
  },
  {
   "cell_type": "code",
   "execution_count": 23,
   "metadata": {},
   "outputs": [],
   "source": [
    "for region in region_pickles:\n",
    "    for asset_type in region.asset_types:\n",
    "        for i, request in enumerate(region.active_requests[asset_type]):\n",
    "            if request.json()[\"status\"] == 'active':\n",
    "                    # gets url of image\n",
    "                    url = request.json()[\"location\"]\n",
    "                    # name of file\n",
    "                    name = region.name +\" \" + asset_type +\"/image_\" + request.json()[\"acquired\"] +\"_\"+ str(i) +\".tif\"\n",
    "                    # creates a directory in the working space if it doesn't already exist\n",
    "                    if not os.path.exists(region.name + \" \" + asset_type):\n",
    "                        os.makedirs(region.name + \" \" + asset_type)\n",
    "                    download = requests.get(url, stream=True)\n",
    "                    # if we don't do this then the file size will be 0\n",
    "                    download.raw.decode_content = True\n",
    "                    # download the file\n",
    "                    with open(name, \"wb\") as f:\n",
    "                        shutil.copyfileobj(download.raw, f)"
   ]
  },
  {
   "cell_type": "code",
   "execution_count": null,
   "metadata": {},
   "outputs": [],
   "source": []
  },
  {
   "cell_type": "code",
   "execution_count": 21,
   "metadata": {},
   "outputs": [],
   "source": [
    "# # test one\n",
    "\n",
    "# region = regions[0]\n",
    "\n",
    "# # search = {\n",
    "# #     \"item_types\":['PSScene'],\n",
    "# #     \"filter\":region.filters\n",
    "# # }\n",
    "# # # post the request using our PLANET_API_KEY to authenticate\n",
    "# # search_result = \\\n",
    "# #     requests.post(\n",
    "# #         'https://api.planet.com/data/v1/quick-search',\n",
    "# #         auth=HTTPBasicAuth(PLANET_API_KEY, ''),\n",
    "# #         json=search\n",
    "# #     )\n",
    "# # # add the request to region object\n",
    "# # region.search_result = search_result\n",
    "# # region.images = [feature['id'] for feature in search_result.json()['features']]\n",
    "\n",
    "# for asset_type in region.asset_types:\n",
    "#         for i, image in enumerate(region.images):\n",
    "#             image_url = 'https://api.planet.com/data/v1/item-types/{}/items/{}/assets'.format(region.item_type, image)\n",
    "#             # create a get request with image url\n",
    "#             result = \\\n",
    "#                 requests.get(\n",
    "#                     image_url,\n",
    "#                     auth=HTTPBasicAuth(PLANET_API_KEY, '')\n",
    "#                 )\n",
    "#             # if the result has a an asset type then that we are looking for\n",
    "#             if asset_type in result.json().keys():\n",
    "#                 links = result.json()[asset_type][\"_links\"]\n",
    "#                 self_link = links[\"_self\"]\n",
    "#                 activation_link = links[\"activate\"]\n",
    "#                 # activate that request\n",
    "#                 activate_result = \\\n",
    "#                     requests.get(\n",
    "#                         activation_link,\n",
    "#                         auth=HTTPBasicAuth(PLANET_API_KEY, '')\n",
    "#                     )\n",
    "#                 # will give us the status of the request\n",
    "#                 activation_status_result = \\\n",
    "#                     requests.get(\n",
    "#                         self_link,\n",
    "#                         auth=HTTPBasicAuth(PLANET_API_KEY, '')\n",
    "#                     )\n",
    "#                 # append the requests\n",
    "#                 region.active_requests[asset_type].append(activation_status_result)\n",
    "#                 region.activated.add(image)\n",
    "#                 break\n",
    "\n",
    "# print(activation_status_result.json())"
   ]
  }
 ],
 "metadata": {
  "interpreter": {
   "hash": "aee8b7b246df8f9039afb4144a1f6fd8d2ca17a180786b69acc140d282b71a49"
  },
  "kernelspec": {
   "display_name": "Python 3.10.2 64-bit",
   "language": "python",
   "name": "python3"
  },
  "language_info": {
   "codemirror_mode": {
    "name": "ipython",
    "version": 3
   },
   "file_extension": ".py",
   "mimetype": "text/x-python",
   "name": "python",
   "nbconvert_exporter": "python",
   "pygments_lexer": "ipython3",
   "version": "3.10.2"
  },
  "orig_nbformat": 4
 },
 "nbformat": 4,
 "nbformat_minor": 2
}
