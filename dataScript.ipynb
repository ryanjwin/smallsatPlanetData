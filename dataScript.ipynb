{
 "cells": [
  {
   "cell_type": "code",
   "execution_count": 1,
   "metadata": {},
   "outputs": [],
   "source": [
    "# all import statements needed\n",
    "import os\n",
    "import json\n",
    "import requests\n",
    "from requests.auth import HTTPBasicAuth\n",
    "from dotenv import load_dotenv"
   ]
  },
  {
   "cell_type": "code",
   "execution_count": 3,
   "metadata": {},
   "outputs": [],
   "source": [
    "# get planet api key from .env\n",
    "PLANET_API_KEY = os.getenv('PLANET_API_KEY')"
   ]
  },
  {
   "cell_type": "code",
   "execution_count": 4,
   "metadata": {},
   "outputs": [],
   "source": [
    "# set the location that we are interested in\n",
    "region =  {\n",
    "        \"type\": \"Polygon\",\n",
    "        \"coordinates\": [\n",
    "          [\n",
    "            [-158.40087890625,70.57976496276407],\n",
    "            [-154.0887451171875,70.57976496276407],\n",
    "            [-154.0887451171875,71.38338855861728],\n",
    "            [-158.40087890625,71.38338855861728],\n",
    "            [-158.40087890625, 70.57976496276407]\n",
    "          ]\n",
    "        ]\n",
    "      }\n"
   ]
  },
  {
   "cell_type": "code",
   "execution_count": 5,
   "metadata": {},
   "outputs": [],
   "source": [
    "# locations that overlap region of interest\n",
    "location = {\n",
    "    \"type\": \"GeometryFilter\",\n",
    "    \"field_name\": \"geometry\",\n",
    "    \"config\": region\n",
    "}\n",
    "# select dates for summer months\n",
    "dates = {\n",
    "  \"type\": \"DateRangeFilter\",\n",
    "  \"field_name\": \"acquired\",\n",
    "  \"config\": {\n",
    "    \"gte\": \"2016-05-01T00:00:00.000Z\",\n",
    "    \"lte\": \"2016-09-31T00:00:00.000Z\"\n",
    "  }\n",
    "}\n",
    "\n",
    "cloud_cover= {\n",
    "    \"type\": \"RangeFilter\",\n",
    "    \"field_name\":\"cloud_cover\"\n",
    "}\n",
    "# create a filter json that combines all of the filters that have been defined\n",
    "filters = {\n",
    "    \"type\": \"AndFilter\",\n",
    "    \"config\": [location, dates, cloud_cover]\n",
    "}\n"
   ]
  },
  {
   "cell_type": "code",
   "execution_count": 18,
   "metadata": {},
   "outputs": [
    {
     "name": "stdout",
     "output_type": "stream",
     "text": [
      "None\n"
     ]
    }
   ],
   "source": [
    "# set the item type that we are insterested\n",
    "item_type = 'PSScene3Band'\n",
    "\n",
    "# create a request object\n",
    "search_request = {\n",
    "    \"interval\":\"day\",\n",
    "    \"item_types\":[item_type],\n",
    "    \"filter\":filters\n",
    "}"
   ]
  },
  {
   "cell_type": "code",
   "execution_count": null,
   "metadata": {},
   "outputs": [],
   "source": [
    "# send request\n",
    "search_result = \\\n",
    "    requests.post(\n",
    "        'https://api.planet.com/data/v1/quick-search',\n",
    "        auth=HTTPBasicAuth(PLANET_API_KEY, ''),\n",
    "        json=search_request\n",
    "    )"
   ]
  },
  {
   "cell_type": "code",
   "execution_count": null,
   "metadata": {},
   "outputs": [],
   "source": [
    "# filter only the images\n",
    "images = [feature['id'] for feature in search_result.json()['features']]"
   ]
  }
 ],
 "metadata": {
  "interpreter": {
   "hash": "aee8b7b246df8f9039afb4144a1f6fd8d2ca17a180786b69acc140d282b71a49"
  },
  "kernelspec": {
   "display_name": "Python 3.10.2 64-bit",
   "language": "python",
   "name": "python3"
  },
  "language_info": {
   "codemirror_mode": {
    "name": "ipython",
    "version": 3
   },
   "file_extension": ".py",
   "mimetype": "text/x-python",
   "name": "python",
   "nbconvert_exporter": "python",
   "pygments_lexer": "ipython3",
   "version": "3.10.2"
  },
  "orig_nbformat": 4
 },
 "nbformat": 4,
 "nbformat_minor": 2
}
