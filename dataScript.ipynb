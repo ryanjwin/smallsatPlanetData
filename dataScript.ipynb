{
 "cells": [
  {
   "cell_type": "code",
   "execution_count": 1,
   "metadata": {},
   "outputs": [],
   "source": [
    "# all import statements needed\n",
    "import os\n",
    "import json\n",
    "import requests\n",
    "import shutil\n",
    "import urllib\n",
    "from requests.auth import HTTPBasicAuth\n",
    "from dotenv import load_dotenv"
   ]
  },
  {
   "cell_type": "code",
   "execution_count": 2,
   "metadata": {},
   "outputs": [],
   "source": [
    "# get planet api key from .env\n",
    "PLANET_API_KEY = os.getenv('PLANET_API_KEY')"
   ]
  },
  {
   "cell_type": "code",
   "execution_count": 3,
   "metadata": {},
   "outputs": [],
   "source": [
    "# set the location that we are interested in\n",
    "region =  {\n",
    "        \"type\": \"Polygon\",\n",
    "        \"coordinates\": [\n",
    "          [\n",
    "            [-158.40087890625,70.57976496276407],\n",
    "            [-154.0887451171875,70.57976496276407],\n",
    "            [-154.0887451171875,71.38338855861728],\n",
    "            [-158.40087890625,72.38338855861728],\n",
    "            [-158.40087890625, 70.57976496276407]\n",
    "          ]\n",
    "        ]\n",
    "      }\n"
   ]
  },
  {
   "cell_type": "code",
   "execution_count": 4,
   "metadata": {},
   "outputs": [],
   "source": [
    "# locations that overlap region of interest\n",
    "location = {\n",
    "    \"type\": \"GeometryFilter\",\n",
    "    \"field_name\": \"geometry\",\n",
    "    \"config\": region\n",
    "}\n",
    "# select dates for summer months\n",
    "dates = {\n",
    "  \"type\": \"DateRangeFilter\",\n",
    "  \"field_name\": \"acquired\",\n",
    "  \"config\": {\n",
    "    \"gte\": \"2016-05-01T00:00:00.000Z\",\n",
    "    \"lte\": \"2016-10-01T00:00:00.000Z\"\n",
    "  }\n",
    "}\n",
    "# cloud cover of less than 0.1\n",
    "cloud_cover= {\n",
    "    \"type\": \"RangeFilter\",\n",
    "    \"field_name\":\"cloud_cover\",\n",
    "    \"config\":{\n",
    "      \"lte\": 0.1\n",
    "    }\n",
    "}\n",
    "# create a filter json that combines all of the filters that have been defined\n",
    "filters = {\n",
    "    \"type\": \"AndFilter\",\n",
    "    \"config\": [location, dates, cloud_cover]\n",
    "}\n"
   ]
  },
  {
   "cell_type": "code",
   "execution_count": 5,
   "metadata": {},
   "outputs": [],
   "source": [
    "# set the item type that we are insterested\n",
    "item_type = 'PSScene4Band'\n",
    "\n",
    "# create a request object\n",
    "search_request = {\n",
    "    \"item_types\":[item_type],\n",
    "    \"filter\":filters\n",
    "}"
   ]
  },
  {
   "cell_type": "code",
   "execution_count": 6,
   "metadata": {},
   "outputs": [],
   "source": [
    "# send request\n",
    "search_result = \\\n",
    "    requests.post(\n",
    "        'https://api.planet.com/data/v1/quick-search',\n",
    "        auth=HTTPBasicAuth(PLANET_API_KEY, ''),\n",
    "        json=search_request\n",
    "    )"
   ]
  },
  {
   "cell_type": "code",
   "execution_count": null,
   "metadata": {},
   "outputs": [],
   "source": [
    "# filter only the images\n",
    "images = [feature['id'] for feature in search_result.json()['features']]\n",
    "active_requests = []\n",
    "activated = set()\n",
    "for i, image in enumerate(images):\n",
    "    image_url = 'https://api.planet.com/data/v1/item-types/{}/items/{}/assets'.format(item_type, image)\n",
    "    result = \\\n",
    "        requests.get(\n",
    "            image_url,\n",
    "            auth=HTTPBasicAuth(PLANET_API_KEY, '')\n",
    "        )\n",
    "    links = result.json()[u\"analytic\"][\"_links\"]\n",
    "    self_link = links[\"_self\"]\n",
    "    activation_link = links[\"activate\"]\n",
    "    # activate links from\n",
    "    activate_result = \\\n",
    "        requests.get(\n",
    "            activation_link,\n",
    "            auth=HTTPBasicAuth(PLANET_API_KEY, '')\n",
    "        )\n",
    "    \n",
    "    activation_status_result = \\\n",
    "        requests.get(\n",
    "            self_link,\n",
    "            auth=HTTPBasicAuth(PLANET_API_KEY, '')\n",
    "        )\n",
    "\n",
    "    active_requests.append(activation_status_result)\n",
    "    activated.add(i)\n",
    "print(len(active_requests) == len(images))"
   ]
  },
  {
   "cell_type": "code",
   "execution_count": null,
   "metadata": {},
   "outputs": [],
   "source": [
    "# get all links to images from\n",
    "while activated:\n",
    "    for i, image in enumerate(images):\n",
    "        if i in activated and active_requests[i].json()[\"status\"] == 'active':\n",
    "            url = activation_status_result.json()[\"location\"]\n",
    "            name = \"images/image\" + str(i) +\".tif\"\n",
    "            download = requests.get(url, stream=True)\n",
    "            download.raw.decode_content = True\n",
    "            with open(name, \"wb\") as f:\n",
    "                shutil.copyfileobj(download.raw, f)\n",
    "            activated.remove(i)\n"
   ]
  }
 ],
 "metadata": {
  "interpreter": {
   "hash": "aee8b7b246df8f9039afb4144a1f6fd8d2ca17a180786b69acc140d282b71a49"
  },
  "kernelspec": {
   "display_name": "Python 3.10.2 64-bit",
   "language": "python",
   "name": "python3"
  },
  "language_info": {
   "codemirror_mode": {
    "name": "ipython",
    "version": 3
   },
   "file_extension": ".py",
   "mimetype": "text/x-python",
   "name": "python",
   "nbconvert_exporter": "python",
   "pygments_lexer": "ipython3",
   "version": "3.10.2"
  },
  "orig_nbformat": 4
 },
 "nbformat": 4,
 "nbformat_minor": 2
}
