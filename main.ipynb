{
 "cells": [
  {
   "cell_type": "code",
   "execution_count": null,
   "metadata": {},
   "outputs": [],
   "source": [
    "# import statements\n",
    "from model_download import get_download_result, download_order\n",
    "from model_order import create_regions, get_item_ids, create_products, create_order, place_order, Region"
   ]
  },
  {
   "cell_type": "code",
   "execution_count": null,
   "metadata": {},
   "outputs": [],
   "source": [
    "# execute this code cell to place orders\n",
    "# grab all regions, if we don't need one in the csv include it in the optional list parameter\n",
    "regions = create_regions('locations.csv')\n",
    "\n",
    "# place order for each region\n",
    "for region in regions:\n",
    "    # get the ids for each item we want\n",
    "    get_item_ids(region)\n",
    "    # create the products needed for the order\n",
    "    create_products(region)\n",
    "    # create the order\n",
    "    create_order(region)\n",
    "    # place the order and save the id\n",
    "    order_id = place_order(region)\n",
    "    # write the id to a text file\n",
    "    with open('order_ids.txt', 'a') as f:\n",
    "        f.write(order_id)"
   ]
  },
  {
   "cell_type": "code",
   "execution_count": null,
   "metadata": {},
   "outputs": [],
   "source": [
    "# execute this code cell to download the orders after email is recieved\n",
    "# read in order ids\n",
    "with open('order_ids.txt') as f:\n",
    "    order_ids = f.readlines()\n",
    "\n",
    "for order_id in order_ids:\n",
    "    result = get_download_result(order_id)\n",
    "    download_order(result)"
   ]
  }
 ],
 "metadata": {
  "language_info": {
   "name": "python"
  },
  "orig_nbformat": 4
 },
 "nbformat": 4,
 "nbformat_minor": 2
}
